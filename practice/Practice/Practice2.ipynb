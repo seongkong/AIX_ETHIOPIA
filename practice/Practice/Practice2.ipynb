{
 "cells": [
  {
   "cell_type": "markdown",
   "id": "9df36799-cea8-49fc-9fac-17ff4d4c6ac8",
   "metadata": {},
   "source": [
    "# Practice-Session 2"
   ]
  },
  {
   "cell_type": "markdown",
   "id": "ea6de9b8-ba3c-40cb-a61a-e12bdd6eb555",
   "metadata": {},
   "source": [
    "## What is the Season_id of the African Cup of Nations?"
   ]
  },
  {
   "cell_type": "code",
   "execution_count": 12,
   "id": "75a81773-3c49-4857-9fc5-f869ba155816",
   "metadata": {},
   "outputs": [],
   "source": [
    "import os\n",
    "from statsbombpy import sb\n",
    "import warnings\n",
    "warnings.filterwarnings(\"ignore\", message=\"credentials were not supplied\")"
   ]
  },
  {
   "cell_type": "code",
   "execution_count": 13,
   "id": "a8d4af4f-5611-4012-b269-e9e08395eb80",
   "metadata": {},
   "outputs": [],
   "source": [
    "df_competitions = sb.competitions()"
   ]
  },
  {
   "cell_type": "markdown",
   "id": "58b11a89-d4f1-46ae-83da-8d8d3edd3044",
   "metadata": {},
   "source": [
    "## Name three players who played in the final match of the African Cup of Nations."
   ]
  },
  {
   "cell_type": "code",
   "execution_count": 18,
   "id": "a2552df2-dd6c-4e6e-8254-6c5894940ba5",
   "metadata": {},
   "outputs": [],
   "source": []
  }
 ],
 "metadata": {
  "kernelspec": {
   "display_name": "Python 3 (ipykernel)",
   "language": "python",
   "name": "python3"
  },
  "language_info": {
   "codemirror_mode": {
    "name": "ipython",
    "version": 3
   },
   "file_extension": ".py",
   "mimetype": "text/x-python",
   "name": "python",
   "nbconvert_exporter": "python",
   "pygments_lexer": "ipython3",
   "version": "3.12.9"
  }
 },
 "nbformat": 4,
 "nbformat_minor": 5
}
