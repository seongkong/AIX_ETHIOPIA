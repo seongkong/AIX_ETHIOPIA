{
 "cells": [
  {
   "cell_type": "markdown",
   "id": "b18db524-c7cc-4807-a4c0-662dd1d288e3",
   "metadata": {},
   "source": [
    "# Practice-Session 1"
   ]
  },
  {
   "cell_type": "markdown",
   "id": "5c09e76a-b358-4ced-a6e0-16a9dcfbaf43",
   "metadata": {},
   "source": [
    "## Pandas"
   ]
  },
  {
   "cell_type": "markdown",
   "id": "65f3e50e-c8f7-45c0-bd19-4e66caef127e",
   "metadata": {},
   "source": [
    "### 1 - Divide into grades from A to D based on the overall score."
   ]
  },
  {
   "cell_type": "code",
   "execution_count": 12,
   "id": "667fa80b-967c-45a9-b819-344353713d68",
   "metadata": {},
   "outputs": [],
   "source": [
    "import pandas as pd"
   ]
  },
  {
   "cell_type": "code",
   "execution_count": 13,
   "id": "e3664ed2-6d28-4058-9c65-1079baa211d8",
   "metadata": {},
   "outputs": [],
   "source": [
    "df = pd.read_csv(\"./data/players.csv\", sep=\",\")"
   ]
  },
  {
   "cell_type": "markdown",
   "id": "7025c4ae-b827-4388-8065-a37b1599fdf1",
   "metadata": {},
   "source": [
    "### 2 - Save players who are A and whose position is CM in df."
   ]
  },
  {
   "cell_type": "code",
   "execution_count": null,
   "id": "e20ac2b4-9ebd-498a-9f3a-cbc22f8e52a7",
   "metadata": {},
   "outputs": [],
   "source": []
  },
  {
   "cell_type": "markdown",
   "id": "a409a2dc-c8c8-4ad5-b7b6-47b484b10c35",
   "metadata": {},
   "source": [
    "# Pitch"
   ]
  },
  {
   "cell_type": "markdown",
   "id": "4252785c-fa2c-41d0-b2dc-c45abeb1488e",
   "metadata": {},
   "source": [
    "### 1 - Draw the pitch.\n",
    "### Conditions: corner arc, fill: grass, line color: white stripes"
   ]
  },
  {
   "cell_type": "code",
   "execution_count": null,
   "id": "5a1ae45b-f090-45b1-a600-3789dcfbddac",
   "metadata": {},
   "outputs": [],
   "source": []
  },
  {
   "cell_type": "markdown",
   "id": "f3839c4f-0d74-45f8-bf15-6cb3f0bb2d76",
   "metadata": {},
   "source": [
    "### 2 - Draw an arrow and a ball using the given x and y coordinates.\n",
    "### Make the arrow transparent.\n",
    "### Draw a soccer ball at the end of the arrow, but make sure the soccer ball is on top."
   ]
  },
  {
   "cell_type": "code",
   "execution_count": null,
   "id": "69ff6e7a-69fa-4247-98fd-cab9a13acfa9",
   "metadata": {},
   "outputs": [],
   "source": []
  },
  {
   "cell_type": "code",
   "execution_count": null,
   "id": "76786e5b-6bc5-411f-b2f3-46e0b7dbe32d",
   "metadata": {},
   "outputs": [],
   "source": []
  }
 ],
 "metadata": {
  "kernelspec": {
   "display_name": "Python 3 (ipykernel)",
   "language": "python",
   "name": "python3"
  },
  "language_info": {
   "codemirror_mode": {
    "name": "ipython",
    "version": 3
   },
   "file_extension": ".py",
   "mimetype": "text/x-python",
   "name": "python",
   "nbconvert_exporter": "python",
   "pygments_lexer": "ipython3",
   "version": "3.12.9"
  }
 },
 "nbformat": 4,
 "nbformat_minor": 5
}
