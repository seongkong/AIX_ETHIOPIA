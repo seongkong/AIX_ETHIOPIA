{
 "cells": [
  {
   "cell_type": "markdown",
   "id": "2d2b8910-23bc-47b1-916d-cba50950e160",
   "metadata": {},
   "source": [
    "*Copyright 2024 Jaeyoung Chun*\n",
    "\n",
    "You may not make copies of this and use or distribute it for any purpose."
   ]
  },
  {
   "cell_type": "markdown",
   "id": "25a206d0-0556-46de-b102-91392c0bcd66",
   "metadata": {},
   "source": [
    "# Open Data"
   ]
  },
  {
   "cell_type": "markdown",
   "id": "2328f66e-5dd9-412e-892c-94b65f071a33",
   "metadata": {},
   "source": [
    "## Install `statsbombpy`"
   ]
  },
  {
   "cell_type": "markdown",
   "id": "0f530ced-eff9-4a96-a476-9e545e06f23a",
   "metadata": {},
   "source": [
    "`statsbombpy` is a Python package that allows you to easily stream StatsBomb data into your Python code.\n",
    "\n",
    "Installation:\n",
    "\n",
    "```\n",
    "conda activate facamp\n",
    "pip install statsbombpy\n",
    "```"
   ]
  },
  {
   "cell_type": "markdown",
   "id": "47ab0e65-e515-4cc2-938f-ae78d708f8e7",
   "metadata": {},
   "source": [
    "## Import `statsbombpy`"
   ]
  },
  {
   "cell_type": "code",
   "execution_count": 1,
   "id": "ef8e6b20-5ca4-4594-a34e-cda0348a1d92",
   "metadata": {},
   "outputs": [],
   "source": [
    "from statsbombpy import sb\n",
    "\n",
    "import warnings\n",
    "warnings.filterwarnings(\"ignore\", message=\"credentials were not supplied\")"
   ]
  },
  {
   "cell_type": "markdown",
   "id": "6485c68c-7911-4671-ab0c-a1a5b22cad77",
   "metadata": {},
   "source": [
    "## Find"
   ]
  },
  {
   "cell_type": "markdown",
   "id": "07bd9a0e-47a2-4697-b5fd-bbbba5e61c7c",
   "metadata": {},
   "source": [
    "- FIFA World Cup 2022\n",
    "- South Korea vs. Portugal (December 2nd, 2022)"
   ]
  },
  {
   "cell_type": "markdown",
   "id": "442f6749-ddda-48f9-8d8e-622967e7991d",
   "metadata": {},
   "source": [
    "### Match ID?"
   ]
  },
  {
   "cell_type": "code",
   "execution_count": 2,
   "id": "08d1d028-9c33-43e8-8de1-d7a39115928c",
   "metadata": {},
   "outputs": [],
   "source": [
    "# ---------------------------\n",
    "# Write your code below\n",
    "# ---------------------------"
   ]
  },
  {
   "cell_type": "markdown",
   "id": "f760ef98-300f-4059-a4f2-6bcab5d2e28b",
   "metadata": {},
   "source": [
    "### Get Events and Store into DataFrame"
   ]
  },
  {
   "cell_type": "code",
   "execution_count": 3,
   "id": "2d516f4c-e1db-4a88-b4cd-22eacda94686",
   "metadata": {},
   "outputs": [],
   "source": [
    "# ---------------------------\n",
    "# Write your code below\n",
    "# ---------------------------"
   ]
  },
  {
   "cell_type": "markdown",
   "id": "74a80def-507a-4b9e-bc85-63817d1e7285",
   "metadata": {},
   "source": [
    "## Write to Parquet File"
   ]
  },
  {
   "cell_type": "markdown",
   "id": "d743c841-93da-402a-886b-50f79ef4846f",
   "metadata": {},
   "source": [
    "File name `raw_events.parquet`"
   ]
  },
  {
   "cell_type": "code",
   "execution_count": 4,
   "id": "67d64ddc-42c9-4900-b226-373e556deb10",
   "metadata": {},
   "outputs": [],
   "source": [
    "# ---------------------------\n",
    "# Write your code below\n",
    "# ---------------------------"
   ]
  }
 ],
 "metadata": {
  "kernelspec": {
   "display_name": "Python 3 (ipykernel)",
   "language": "python",
   "name": "python3"
  },
  "language_info": {
   "codemirror_mode": {
    "name": "ipython",
    "version": 3
   },
   "file_extension": ".py",
   "mimetype": "text/x-python",
   "name": "python",
   "nbconvert_exporter": "python",
   "pygments_lexer": "ipython3",
   "version": "3.9.19"
  }
 },
 "nbformat": 4,
 "nbformat_minor": 5
}
