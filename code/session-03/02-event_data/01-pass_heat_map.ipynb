{
 "cells": [
  {
   "cell_type": "markdown",
   "id": "f6e803a6-19c3-46ab-b074-0db164521ba3",
   "metadata": {},
   "source": [
    "*Copyright 2024 Jaeyoung Chun*\n",
    "\n",
    "You may not make copies of this and use or distribute it for any purpose."
   ]
  },
  {
   "cell_type": "markdown",
   "id": "f918be3e",
   "metadata": {},
   "source": [
    "# Heat Map"
   ]
  },
  {
   "cell_type": "code",
   "execution_count": 1,
   "id": "3360f510",
   "metadata": {
    "ExecuteTime": {
     "end_time": "2023-07-29T08:33:37.480291Z",
     "start_time": "2023-07-29T08:33:36.715342Z"
    }
   },
   "outputs": [],
   "source": [
    "import pandas as pd\n",
    "import warnings\n",
    "warnings.simplefilter(action='ignore', category=FutureWarning)"
   ]
  },
  {
   "cell_type": "markdown",
   "id": "cff5eaca-20ee-43ed-a14e-6e11568eed14",
   "metadata": {},
   "source": [
    "## Load Data"
   ]
  },
  {
   "cell_type": "code",
   "execution_count": 2,
   "id": "b6365b97",
   "metadata": {
    "ExecuteTime": {
     "end_time": "2023-07-29T08:33:41.451261Z",
     "start_time": "2023-07-29T08:33:41.430770Z"
    }
   },
   "outputs": [],
   "source": [
    "df = pd.read_csv(\"./data/events_pass_simple.csv\")"
   ]
  },
  {
   "cell_type": "code",
   "execution_count": 3,
   "id": "55b0fbf8",
   "metadata": {
    "ExecuteTime": {
     "end_time": "2023-07-29T08:33:42.249213Z",
     "start_time": "2023-07-29T08:33:42.230495Z"
    }
   },
   "outputs": [
    {
     "data": {
      "text/html": [
       "<div>\n",
       "<style scoped>\n",
       "    .dataframe tbody tr th:only-of-type {\n",
       "        vertical-align: middle;\n",
       "    }\n",
       "\n",
       "    .dataframe tbody tr th {\n",
       "        vertical-align: top;\n",
       "    }\n",
       "\n",
       "    .dataframe thead th {\n",
       "        text-align: right;\n",
       "    }\n",
       "</style>\n",
       "<table border=\"1\" class=\"dataframe\">\n",
       "  <thead>\n",
       "    <tr style=\"text-align: right;\">\n",
       "      <th></th>\n",
       "      <th>period</th>\n",
       "      <th>team</th>\n",
       "      <th>type</th>\n",
       "      <th>x_start</th>\n",
       "      <th>y_start</th>\n",
       "      <th>x_end</th>\n",
       "      <th>y_end</th>\n",
       "    </tr>\n",
       "  </thead>\n",
       "  <tbody>\n",
       "    <tr>\n",
       "      <th>0</th>\n",
       "      <td>1</td>\n",
       "      <td>South Korea</td>\n",
       "      <td>Pass</td>\n",
       "      <td>60.0</td>\n",
       "      <td>40.0</td>\n",
       "      <td>39.9</td>\n",
       "      <td>29.0</td>\n",
       "    </tr>\n",
       "    <tr>\n",
       "      <th>1</th>\n",
       "      <td>1</td>\n",
       "      <td>South Korea</td>\n",
       "      <td>Pass</td>\n",
       "      <td>39.7</td>\n",
       "      <td>30.0</td>\n",
       "      <td>31.9</td>\n",
       "      <td>16.7</td>\n",
       "    </tr>\n",
       "    <tr>\n",
       "      <th>2</th>\n",
       "      <td>1</td>\n",
       "      <td>South Korea</td>\n",
       "      <td>Pass</td>\n",
       "      <td>37.4</td>\n",
       "      <td>8.9</td>\n",
       "      <td>49.8</td>\n",
       "      <td>3.6</td>\n",
       "    </tr>\n",
       "    <tr>\n",
       "      <th>3</th>\n",
       "      <td>1</td>\n",
       "      <td>South Korea</td>\n",
       "      <td>Pass</td>\n",
       "      <td>42.1</td>\n",
       "      <td>3.4</td>\n",
       "      <td>31.5</td>\n",
       "      <td>3.6</td>\n",
       "    </tr>\n",
       "    <tr>\n",
       "      <th>4</th>\n",
       "      <td>1</td>\n",
       "      <td>South Korea</td>\n",
       "      <td>Pass</td>\n",
       "      <td>30.6</td>\n",
       "      <td>4.1</td>\n",
       "      <td>57.7</td>\n",
       "      <td>11.7</td>\n",
       "    </tr>\n",
       "    <tr>\n",
       "      <th>...</th>\n",
       "      <td>...</td>\n",
       "      <td>...</td>\n",
       "      <td>...</td>\n",
       "      <td>...</td>\n",
       "      <td>...</td>\n",
       "      <td>...</td>\n",
       "      <td>...</td>\n",
       "    </tr>\n",
       "    <tr>\n",
       "      <th>1002</th>\n",
       "      <td>2</td>\n",
       "      <td>South Korea</td>\n",
       "      <td>Pass</td>\n",
       "      <td>94.3</td>\n",
       "      <td>76.4</td>\n",
       "      <td>89.5</td>\n",
       "      <td>78.9</td>\n",
       "    </tr>\n",
       "    <tr>\n",
       "      <th>1003</th>\n",
       "      <td>2</td>\n",
       "      <td>South Korea</td>\n",
       "      <td>Pass</td>\n",
       "      <td>88.1</td>\n",
       "      <td>78.2</td>\n",
       "      <td>79.6</td>\n",
       "      <td>76.2</td>\n",
       "    </tr>\n",
       "    <tr>\n",
       "      <th>1004</th>\n",
       "      <td>2</td>\n",
       "      <td>South Korea</td>\n",
       "      <td>Pass</td>\n",
       "      <td>79.3</td>\n",
       "      <td>75.4</td>\n",
       "      <td>81.9</td>\n",
       "      <td>72.3</td>\n",
       "    </tr>\n",
       "    <tr>\n",
       "      <th>1005</th>\n",
       "      <td>2</td>\n",
       "      <td>Portugal</td>\n",
       "      <td>Pass</td>\n",
       "      <td>38.2</td>\n",
       "      <td>7.8</td>\n",
       "      <td>68.1</td>\n",
       "      <td>12.9</td>\n",
       "    </tr>\n",
       "    <tr>\n",
       "      <th>1006</th>\n",
       "      <td>2</td>\n",
       "      <td>Portugal</td>\n",
       "      <td>Pass</td>\n",
       "      <td>58.9</td>\n",
       "      <td>0.1</td>\n",
       "      <td>44.7</td>\n",
       "      <td>13.9</td>\n",
       "    </tr>\n",
       "  </tbody>\n",
       "</table>\n",
       "<p>1007 rows × 7 columns</p>\n",
       "</div>"
      ],
      "text/plain": [
       "      period         team  type  x_start  y_start  x_end  y_end\n",
       "0          1  South Korea  Pass     60.0     40.0   39.9   29.0\n",
       "1          1  South Korea  Pass     39.7     30.0   31.9   16.7\n",
       "2          1  South Korea  Pass     37.4      8.9   49.8    3.6\n",
       "3          1  South Korea  Pass     42.1      3.4   31.5    3.6\n",
       "4          1  South Korea  Pass     30.6      4.1   57.7   11.7\n",
       "...      ...          ...   ...      ...      ...    ...    ...\n",
       "1002       2  South Korea  Pass     94.3     76.4   89.5   78.9\n",
       "1003       2  South Korea  Pass     88.1     78.2   79.6   76.2\n",
       "1004       2  South Korea  Pass     79.3     75.4   81.9   72.3\n",
       "1005       2     Portugal  Pass     38.2      7.8   68.1   12.9\n",
       "1006       2     Portugal  Pass     58.9      0.1   44.7   13.9\n",
       "\n",
       "[1007 rows x 7 columns]"
      ]
     },
     "execution_count": 3,
     "metadata": {},
     "output_type": "execute_result"
    }
   ],
   "source": [
    "df"
   ]
  },
  {
   "cell_type": "markdown",
   "id": "4631485a-174e-4903-be1c-79c45ee84016",
   "metadata": {},
   "source": [
    "## Filter"
   ]
  },
  {
   "cell_type": "markdown",
   "id": "f03738b1-66a4-4621-be27-0d9780d9e373",
   "metadata": {},
   "source": [
    "### South Korea Only"
   ]
  },
  {
   "cell_type": "code",
   "execution_count": 4,
   "id": "d7eb67cb-3aaf-427e-8e12-c9c9f2398adf",
   "metadata": {},
   "outputs": [
    {
     "data": {
      "text/plain": [
       "array(['South Korea', 'Portugal'], dtype=object)"
      ]
     },
     "execution_count": 4,
     "metadata": {},
     "output_type": "execute_result"
    }
   ],
   "source": [
    "df.team.unique()"
   ]
  },
  {
   "cell_type": "code",
   "execution_count": 5,
   "id": "49e74721-997c-4036-a207-030306d58ffe",
   "metadata": {},
   "outputs": [],
   "source": [
    "df = df[ df.team == \"South Korea\" ]"
   ]
  },
  {
   "cell_type": "code",
   "execution_count": 6,
   "id": "27ff1131-9079-4982-812b-9468002253d3",
   "metadata": {},
   "outputs": [
    {
     "data": {
      "text/plain": [
       "388"
      ]
     },
     "execution_count": 6,
     "metadata": {},
     "output_type": "execute_result"
    }
   ],
   "source": [
    "len(df)"
   ]
  },
  {
   "cell_type": "markdown",
   "id": "45885ce4-d451-44c8-97a5-374008bf0d70",
   "metadata": {},
   "source": [
    "### Second Half Only"
   ]
  },
  {
   "cell_type": "code",
   "execution_count": 7,
   "id": "77dc446f-a99b-4fed-9896-d20be1a5e5dd",
   "metadata": {},
   "outputs": [
    {
     "data": {
      "text/plain": [
       "array([1, 2])"
      ]
     },
     "execution_count": 7,
     "metadata": {},
     "output_type": "execute_result"
    }
   ],
   "source": [
    "df.period.unique()"
   ]
  },
  {
   "cell_type": "code",
   "execution_count": 8,
   "id": "bf51d075-2469-4d02-bc12-241f6c4bbef2",
   "metadata": {},
   "outputs": [],
   "source": [
    "df = df[ df.period == 2 ]"
   ]
  },
  {
   "cell_type": "code",
   "execution_count": 9,
   "id": "63a74aec-1b26-4525-87fa-0d3299cb831d",
   "metadata": {},
   "outputs": [
    {
     "data": {
      "text/plain": [
       "156"
      ]
     },
     "execution_count": 9,
     "metadata": {},
     "output_type": "execute_result"
    }
   ],
   "source": [
    "len(df)"
   ]
  },
  {
   "cell_type": "markdown",
   "id": "fb0aa265-3141-4e49-970b-c03516a6f130",
   "metadata": {},
   "source": [
    "## Pass Map"
   ]
  },
  {
   "cell_type": "code",
   "execution_count": 10,
   "id": "8bddad5d-4a28-4f96-b432-b8d2bd7849fc",
   "metadata": {},
   "outputs": [],
   "source": [
    "import matplotlib.pyplot as plt\n",
    "%matplotlib inline\n",
    "%config InlineBackend.figure_format='retina'\n",
    "from mplsoccer import Pitch, VerticalPitch"
   ]
  },
  {
   "cell_type": "markdown",
   "id": "f3ab5d26-f2f8-4939-be7a-a3ed75f8b353",
   "metadata": {},
   "source": [
    "<img src=\"./img/passmap.png\" width=\"480\" />"
   ]
  },
  {
   "cell_type": "code",
   "execution_count": 11,
   "id": "de98cc99-aa73-4ced-9194-15a21e52d6e4",
   "metadata": {},
   "outputs": [],
   "source": [
    "# ---------------------------\n",
    "# Write your code below\n",
    "# ---------------------------"
   ]
  },
  {
   "cell_type": "markdown",
   "id": "810fb6db-f9af-4fab-bb35-b80056e80a6d",
   "metadata": {},
   "source": [
    "## Heat Map"
   ]
  },
  {
   "cell_type": "code",
   "execution_count": 12,
   "id": "f98a485f-1310-4871-9b4a-86ae136092c2",
   "metadata": {},
   "outputs": [],
   "source": [
    "import matplotlib"
   ]
  },
  {
   "cell_type": "code",
   "execution_count": 13,
   "id": "0ad0a966-3d13-473a-8e3a-e863069661b9",
   "metadata": {},
   "outputs": [],
   "source": [
    "custom_cmap = matplotlib.colors.LinearSegmentedColormap.from_list(\"custom_cmap\", [\"red\", \"black\"])"
   ]
  },
  {
   "cell_type": "markdown",
   "id": "56d847eb-1153-4701-b53f-ed4f2cba7a4c",
   "metadata": {},
   "source": [
    "### Pass Start"
   ]
  },
  {
   "cell_type": "markdown",
   "id": "3841d45f-052a-4269-8899-43f529fe8257",
   "metadata": {},
   "source": [
    "<img src=\"./img/heatmap1.png\" width=\"480\" />"
   ]
  },
  {
   "cell_type": "code",
   "execution_count": 14,
   "id": "505a3ea7-5c0b-4a71-9bd6-4940de3a2c6b",
   "metadata": {},
   "outputs": [],
   "source": [
    "# ---------------------------\n",
    "# Write your code below\n",
    "# ---------------------------"
   ]
  },
  {
   "cell_type": "markdown",
   "id": "bcc66648-6711-48d2-9650-8deda93a1816",
   "metadata": {},
   "source": [
    "### Pass Start and End"
   ]
  },
  {
   "cell_type": "markdown",
   "id": "da47c2d7-e5ae-4049-a9c9-2e00ee9b9d0f",
   "metadata": {},
   "source": [
    "<img src=\"./img/heatmap2.png\" width=\"480\" />"
   ]
  },
  {
   "cell_type": "code",
   "execution_count": 15,
   "id": "49f2eb36-9008-4068-894c-778013cc2ea5",
   "metadata": {},
   "outputs": [],
   "source": [
    "# ---------------------------\n",
    "# Write your code below\n",
    "# ---------------------------"
   ]
  },
  {
   "cell_type": "code",
   "execution_count": null,
   "id": "3d791d03-5494-4509-9ba6-a5c13382f4da",
   "metadata": {},
   "outputs": [],
   "source": []
  }
 ],
 "metadata": {
  "kernelspec": {
   "display_name": "Python 3 (ipykernel)",
   "language": "python",
   "name": "python3"
  },
  "language_info": {
   "codemirror_mode": {
    "name": "ipython",
    "version": 3
   },
   "file_extension": ".py",
   "mimetype": "text/x-python",
   "name": "python",
   "nbconvert_exporter": "python",
   "pygments_lexer": "ipython3",
   "version": "3.9.19"
  },
  "toc": {
   "base_numbering": 1,
   "nav_menu": {},
   "number_sections": true,
   "sideBar": true,
   "skip_h1_title": false,
   "title_cell": "Table of Contents",
   "title_sidebar": "Contents",
   "toc_cell": false,
   "toc_position": {},
   "toc_section_display": true,
   "toc_window_display": false
  },
  "toc-autonumbering": true,
  "toc-showcode": false,
  "toc-showmarkdowntxt": false,
  "toc-showtags": false
 },
 "nbformat": 4,
 "nbformat_minor": 5
}
