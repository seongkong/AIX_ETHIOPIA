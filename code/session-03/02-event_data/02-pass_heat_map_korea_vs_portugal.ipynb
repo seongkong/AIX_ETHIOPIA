{
 "cells": [
  {
   "cell_type": "markdown",
   "id": "ec49d876-d146-4dc4-969b-39093dbc9cbe",
   "metadata": {},
   "source": [
    "*Copyright 2024 Jaeyoung Chun*\n",
    "\n",
    "You may not make copies of this and use or distribute it for any purpose."
   ]
  },
  {
   "cell_type": "markdown",
   "id": "f918be3e",
   "metadata": {},
   "source": [
    "# Heat Map"
   ]
  },
  {
   "cell_type": "code",
   "execution_count": 1,
   "id": "3360f510",
   "metadata": {
    "ExecuteTime": {
     "end_time": "2023-07-29T08:33:37.480291Z",
     "start_time": "2023-07-29T08:33:36.715342Z"
    }
   },
   "outputs": [],
   "source": [
    "import pandas as pd\n",
    "import warnings\n",
    "warnings.simplefilter(action='ignore', category=FutureWarning)"
   ]
  },
  {
   "cell_type": "markdown",
   "id": "cff5eaca-20ee-43ed-a14e-6e11568eed14",
   "metadata": {},
   "source": [
    "## Load Data"
   ]
  },
  {
   "cell_type": "code",
   "execution_count": 2,
   "id": "b6365b97",
   "metadata": {
    "ExecuteTime": {
     "end_time": "2023-07-29T08:33:41.451261Z",
     "start_time": "2023-07-29T08:33:41.430770Z"
    }
   },
   "outputs": [],
   "source": [
    "df = pd.read_csv(\"./data/events_pass_simple.csv\")"
   ]
  },
  {
   "cell_type": "code",
   "execution_count": 3,
   "id": "55b0fbf8",
   "metadata": {
    "ExecuteTime": {
     "end_time": "2023-07-29T08:33:42.249213Z",
     "start_time": "2023-07-29T08:33:42.230495Z"
    }
   },
   "outputs": [
    {
     "data": {
      "text/html": [
       "<div>\n",
       "<style scoped>\n",
       "    .dataframe tbody tr th:only-of-type {\n",
       "        vertical-align: middle;\n",
       "    }\n",
       "\n",
       "    .dataframe tbody tr th {\n",
       "        vertical-align: top;\n",
       "    }\n",
       "\n",
       "    .dataframe thead th {\n",
       "        text-align: right;\n",
       "    }\n",
       "</style>\n",
       "<table border=\"1\" class=\"dataframe\">\n",
       "  <thead>\n",
       "    <tr style=\"text-align: right;\">\n",
       "      <th></th>\n",
       "      <th>period</th>\n",
       "      <th>team</th>\n",
       "      <th>type</th>\n",
       "      <th>x_start</th>\n",
       "      <th>y_start</th>\n",
       "      <th>x_end</th>\n",
       "      <th>y_end</th>\n",
       "    </tr>\n",
       "  </thead>\n",
       "  <tbody>\n",
       "    <tr>\n",
       "      <th>0</th>\n",
       "      <td>1</td>\n",
       "      <td>South Korea</td>\n",
       "      <td>Pass</td>\n",
       "      <td>60.0</td>\n",
       "      <td>40.0</td>\n",
       "      <td>39.9</td>\n",
       "      <td>29.0</td>\n",
       "    </tr>\n",
       "    <tr>\n",
       "      <th>1</th>\n",
       "      <td>1</td>\n",
       "      <td>South Korea</td>\n",
       "      <td>Pass</td>\n",
       "      <td>39.7</td>\n",
       "      <td>30.0</td>\n",
       "      <td>31.9</td>\n",
       "      <td>16.7</td>\n",
       "    </tr>\n",
       "    <tr>\n",
       "      <th>2</th>\n",
       "      <td>1</td>\n",
       "      <td>South Korea</td>\n",
       "      <td>Pass</td>\n",
       "      <td>37.4</td>\n",
       "      <td>8.9</td>\n",
       "      <td>49.8</td>\n",
       "      <td>3.6</td>\n",
       "    </tr>\n",
       "    <tr>\n",
       "      <th>3</th>\n",
       "      <td>1</td>\n",
       "      <td>South Korea</td>\n",
       "      <td>Pass</td>\n",
       "      <td>42.1</td>\n",
       "      <td>3.4</td>\n",
       "      <td>31.5</td>\n",
       "      <td>3.6</td>\n",
       "    </tr>\n",
       "    <tr>\n",
       "      <th>4</th>\n",
       "      <td>1</td>\n",
       "      <td>South Korea</td>\n",
       "      <td>Pass</td>\n",
       "      <td>30.6</td>\n",
       "      <td>4.1</td>\n",
       "      <td>57.7</td>\n",
       "      <td>11.7</td>\n",
       "    </tr>\n",
       "    <tr>\n",
       "      <th>...</th>\n",
       "      <td>...</td>\n",
       "      <td>...</td>\n",
       "      <td>...</td>\n",
       "      <td>...</td>\n",
       "      <td>...</td>\n",
       "      <td>...</td>\n",
       "      <td>...</td>\n",
       "    </tr>\n",
       "    <tr>\n",
       "      <th>1002</th>\n",
       "      <td>2</td>\n",
       "      <td>South Korea</td>\n",
       "      <td>Pass</td>\n",
       "      <td>94.3</td>\n",
       "      <td>76.4</td>\n",
       "      <td>89.5</td>\n",
       "      <td>78.9</td>\n",
       "    </tr>\n",
       "    <tr>\n",
       "      <th>1003</th>\n",
       "      <td>2</td>\n",
       "      <td>South Korea</td>\n",
       "      <td>Pass</td>\n",
       "      <td>88.1</td>\n",
       "      <td>78.2</td>\n",
       "      <td>79.6</td>\n",
       "      <td>76.2</td>\n",
       "    </tr>\n",
       "    <tr>\n",
       "      <th>1004</th>\n",
       "      <td>2</td>\n",
       "      <td>South Korea</td>\n",
       "      <td>Pass</td>\n",
       "      <td>79.3</td>\n",
       "      <td>75.4</td>\n",
       "      <td>81.9</td>\n",
       "      <td>72.3</td>\n",
       "    </tr>\n",
       "    <tr>\n",
       "      <th>1005</th>\n",
       "      <td>2</td>\n",
       "      <td>Portugal</td>\n",
       "      <td>Pass</td>\n",
       "      <td>38.2</td>\n",
       "      <td>7.8</td>\n",
       "      <td>68.1</td>\n",
       "      <td>12.9</td>\n",
       "    </tr>\n",
       "    <tr>\n",
       "      <th>1006</th>\n",
       "      <td>2</td>\n",
       "      <td>Portugal</td>\n",
       "      <td>Pass</td>\n",
       "      <td>58.9</td>\n",
       "      <td>0.1</td>\n",
       "      <td>44.7</td>\n",
       "      <td>13.9</td>\n",
       "    </tr>\n",
       "  </tbody>\n",
       "</table>\n",
       "<p>1007 rows × 7 columns</p>\n",
       "</div>"
      ],
      "text/plain": [
       "      period         team  type  x_start  y_start  x_end  y_end\n",
       "0          1  South Korea  Pass     60.0     40.0   39.9   29.0\n",
       "1          1  South Korea  Pass     39.7     30.0   31.9   16.7\n",
       "2          1  South Korea  Pass     37.4      8.9   49.8    3.6\n",
       "3          1  South Korea  Pass     42.1      3.4   31.5    3.6\n",
       "4          1  South Korea  Pass     30.6      4.1   57.7   11.7\n",
       "...      ...          ...   ...      ...      ...    ...    ...\n",
       "1002       2  South Korea  Pass     94.3     76.4   89.5   78.9\n",
       "1003       2  South Korea  Pass     88.1     78.2   79.6   76.2\n",
       "1004       2  South Korea  Pass     79.3     75.4   81.9   72.3\n",
       "1005       2     Portugal  Pass     38.2      7.8   68.1   12.9\n",
       "1006       2     Portugal  Pass     58.9      0.1   44.7   13.9\n",
       "\n",
       "[1007 rows x 7 columns]"
      ]
     },
     "execution_count": 3,
     "metadata": {},
     "output_type": "execute_result"
    }
   ],
   "source": [
    "df"
   ]
  },
  {
   "cell_type": "markdown",
   "id": "4631485a-174e-4903-be1c-79c45ee84016",
   "metadata": {},
   "source": [
    "## Filter"
   ]
  },
  {
   "cell_type": "markdown",
   "id": "45885ce4-d451-44c8-97a5-374008bf0d70",
   "metadata": {},
   "source": [
    "### Second Half Only"
   ]
  },
  {
   "cell_type": "code",
   "execution_count": 4,
   "id": "bf51d075-2469-4d02-bc12-241f6c4bbef2",
   "metadata": {},
   "outputs": [],
   "source": [
    "df = df[ df.period == 2 ]"
   ]
  },
  {
   "cell_type": "markdown",
   "id": "f03738b1-66a4-4621-be27-0d9780d9e373",
   "metadata": {},
   "source": [
    "### South Korea"
   ]
  },
  {
   "cell_type": "code",
   "execution_count": 5,
   "id": "d7eb67cb-3aaf-427e-8e12-c9c9f2398adf",
   "metadata": {},
   "outputs": [],
   "source": [
    "df_korea = df[ df.team == \"South Korea\" ]"
   ]
  },
  {
   "cell_type": "markdown",
   "id": "5aea87c3-c8e1-4879-98f3-fa4281d47e17",
   "metadata": {},
   "source": [
    "### Portugal"
   ]
  },
  {
   "cell_type": "code",
   "execution_count": 6,
   "id": "49e74721-997c-4036-a207-030306d58ffe",
   "metadata": {},
   "outputs": [],
   "source": [
    "df_portugal = df[ df.team == \"Portugal\" ]"
   ]
  },
  {
   "cell_type": "markdown",
   "id": "810fb6db-f9af-4fab-bb35-b80056e80a6d",
   "metadata": {},
   "source": [
    "## Heat Map"
   ]
  },
  {
   "cell_type": "code",
   "execution_count": 7,
   "id": "f98a485f-1310-4871-9b4a-86ae136092c2",
   "metadata": {},
   "outputs": [],
   "source": [
    "import matplotlib\n",
    "import matplotlib.pyplot as plt\n",
    "%matplotlib inline\n",
    "%config InlineBackend.figure_format='retina'\n",
    "from mplsoccer import Pitch, VerticalPitch"
   ]
  },
  {
   "cell_type": "code",
   "execution_count": 8,
   "id": "0ad0a966-3d13-473a-8e3a-e863069661b9",
   "metadata": {},
   "outputs": [],
   "source": [
    "custom_cmap = matplotlib.colors.LinearSegmentedColormap.from_list(\"custom_cmap\", [\"red\", \"black\"])"
   ]
  },
  {
   "cell_type": "markdown",
   "id": "0a527dd1-1630-4528-9626-9cec012af8c7",
   "metadata": {},
   "source": [
    "<img src=\"./img/heatmap3.png\" width=\"480\" />"
   ]
  },
  {
   "cell_type": "code",
   "execution_count": 1,
   "id": "9a62bfc5-1a9b-4925-9146-46342c0bffb8",
   "metadata": {},
   "outputs": [],
   "source": [
    "# ---------------------------\n",
    "# Write your code below\n",
    "# ---------------------------"
   ]
  }
 ],
 "metadata": {
  "kernelspec": {
   "display_name": "Python 3 (ipykernel)",
   "language": "python",
   "name": "python3"
  },
  "language_info": {
   "codemirror_mode": {
    "name": "ipython",
    "version": 3
   },
   "file_extension": ".py",
   "mimetype": "text/x-python",
   "name": "python",
   "nbconvert_exporter": "python",
   "pygments_lexer": "ipython3",
   "version": "3.9.19"
  },
  "toc": {
   "base_numbering": 1,
   "nav_menu": {},
   "number_sections": true,
   "sideBar": true,
   "skip_h1_title": false,
   "title_cell": "Table of Contents",
   "title_sidebar": "Contents",
   "toc_cell": false,
   "toc_position": {},
   "toc_section_display": true,
   "toc_window_display": false
  },
  "toc-autonumbering": true,
  "toc-showcode": false,
  "toc-showmarkdowntxt": false,
  "toc-showtags": false
 },
 "nbformat": 4,
 "nbformat_minor": 5
}
