{
 "cells": [
  {
   "cell_type": "markdown",
   "id": "b093ec30-7951-409e-88ed-208782124426",
   "metadata": {},
   "source": [
    "*Copyright 2024 Jaeyoung Chun*\n",
    "\n",
    "You may not make copies of this and use or distribute it for any purpose."
   ]
  },
  {
   "cell_type": "markdown",
   "id": "33b493b6-a9a7-41bc-a283-2cf49418929a",
   "metadata": {},
   "source": [
    "# Game Replay using Tracking Data"
   ]
  },
  {
   "cell_type": "code",
   "execution_count": 1,
   "id": "1cab6dd4-f0a8-45f5-877d-4ce5e669b94e",
   "metadata": {},
   "outputs": [],
   "source": [
    "from kloppy import metrica\n",
    "import matplotlib.pyplot as plt\n",
    "from mplsoccer import Pitch\n",
    "import os\n",
    "from tqdm import tqdm"
   ]
  },
  {
   "cell_type": "markdown",
   "id": "bbe8ce69-4155-445b-872b-1102e4838dd0",
   "metadata": {},
   "source": [
    "## Load Tracking Data"
   ]
  },
  {
   "cell_type": "code",
   "execution_count": 2,
   "id": "e83584d9-1675-41b7-b1f6-93ee51a7cccc",
   "metadata": {},
   "outputs": [],
   "source": [
    "dataset = metrica.load_open_data(match_id=1)"
   ]
  },
  {
   "cell_type": "code",
   "execution_count": 3,
   "id": "9b5f5f49-ec6d-4f44-ba43-1b76ce91c2fb",
   "metadata": {},
   "outputs": [
    {
     "data": {
      "text/plain": [
       "145006"
      ]
     },
     "execution_count": 3,
     "metadata": {},
     "output_type": "execute_result"
    }
   ],
   "source": [
    "len(dataset.records)"
   ]
  },
  {
   "cell_type": "code",
   "execution_count": 4,
   "id": "a1269ba0-75e2-4eb1-b669-c330f8bd7cd7",
   "metadata": {},
   "outputs": [
    {
     "data": {
      "text/plain": [
       "0.0"
      ]
     },
     "execution_count": 4,
     "metadata": {},
     "output_type": "execute_result"
    }
   ],
   "source": [
    "dataset.records[0].timestamp"
   ]
  },
  {
   "cell_type": "code",
   "execution_count": 5,
   "id": "0f6df99b-8dc9-4b00-8468-d921d48d4a2e",
   "metadata": {},
   "outputs": [
    {
     "data": {
      "text/plain": [
       "2949.4799999999996"
      ]
     },
     "execution_count": 5,
     "metadata": {},
     "output_type": "execute_result"
    }
   ],
   "source": [
    "dataset.records[-1].timestamp"
   ]
  },
  {
   "cell_type": "markdown",
   "id": "95f527e8-1173-4a39-a6ae-2256d4ee6596",
   "metadata": {},
   "source": [
    "## Metadata"
   ]
  },
  {
   "cell_type": "code",
   "execution_count": 6,
   "id": "809263bc-8bb1-42e1-98c0-f9caeb975733",
   "metadata": {},
   "outputs": [],
   "source": [
    "metadata = dataset.metadata"
   ]
  },
  {
   "cell_type": "markdown",
   "id": "2d422519-52f2-43bd-a1e6-2d21b693e9fa",
   "metadata": {},
   "source": [
    "### Home Team and Away Team"
   ]
  },
  {
   "cell_type": "code",
   "execution_count": 7,
   "id": "9212c421-536c-4600-9e31-3b956d126d22",
   "metadata": {},
   "outputs": [],
   "source": [
    "team_home, team_away = metadata.teams"
   ]
  },
  {
   "cell_type": "markdown",
   "id": "9d980231-2a47-4d50-9bf9-130b9428b6d4",
   "metadata": {},
   "source": [
    "### Players"
   ]
  },
  {
   "cell_type": "code",
   "execution_count": 8,
   "id": "ac2071f6-3061-4ae9-bc7f-fd10768688c9",
   "metadata": {},
   "outputs": [
    {
     "name": "stdout",
     "output_type": "stream",
     "text": [
      "home_11\n",
      "home_1\n",
      "home_2\n",
      "home_3\n",
      "home_4\n",
      "home_5\n",
      "home_6\n",
      "home_7\n",
      "home_8\n",
      "home_9\n",
      "home_10\n",
      "home_12\n",
      "home_13\n",
      "home_14\n"
     ]
    }
   ],
   "source": [
    "for player in team_home.players:\n",
    "    print(player.player_id)"
   ]
  },
  {
   "cell_type": "markdown",
   "id": "8ddc9c08-bf4b-443d-8c0c-72c9ff013804",
   "metadata": {},
   "source": [
    "### Frames"
   ]
  },
  {
   "cell_type": "code",
   "execution_count": 9,
   "id": "32a087b8-47fa-49b1-ae6c-6d50a9f998bc",
   "metadata": {},
   "outputs": [
    {
     "data": {
      "text/plain": [
       "145006"
      ]
     },
     "execution_count": 9,
     "metadata": {},
     "output_type": "execute_result"
    }
   ],
   "source": [
    "len(dataset.frames)"
   ]
  },
  {
   "cell_type": "markdown",
   "id": "0d86e329-50e4-4611-bc44-509919b3aeff",
   "metadata": {},
   "source": [
    "### Ball Coordinates"
   ]
  },
  {
   "cell_type": "code",
   "execution_count": 10,
   "id": "66fd5bc5-d45f-4027-9994-60c389337ce9",
   "metadata": {},
   "outputs": [
    {
     "name": "stdout",
     "output_type": "stream",
     "text": [
      "Point(x=0.45472, y=0.6129100000000001)\n",
      "Point(x=0.49645, y=0.59344)\n",
      "Point(x=0.53716, y=0.5744400000000001)\n",
      "Point(x=0.55346, y=0.57769)\n",
      "Point(x=0.55512, y=0.5943)\n",
      "Point(x=0.55677, y=0.6109100000000001)\n",
      "Point(x=0.55842, y=0.6275200000000001)\n",
      "Point(x=0.56004, y=0.64371)\n",
      "Point(x=0.56173, y=0.66074)\n",
      "Point(x=0.56338, y=0.67735)\n"
     ]
    }
   ],
   "source": [
    "for frame in dataset.frames[:10]:\n",
    "    print(frame.ball_coordinates)"
   ]
  },
  {
   "cell_type": "markdown",
   "id": "a01399ec-3c7c-4284-9e09-4b271c222afb",
   "metadata": {},
   "source": [
    "### Player Coordinates"
   ]
  },
  {
   "cell_type": "code",
   "execution_count": 11,
   "id": "324a8e3c-396f-4218-a4c3-da1141712dd8",
   "metadata": {},
   "outputs": [
    {
     "name": "stdout",
     "output_type": "stream",
     "text": [
      "home_11 Point(x=0.00082, y=0.51762)\n",
      "home_1 Point(x=0.32648, y=0.34678)\n",
      "home_2 Point(x=0.33701, y=0.51137)\n",
      "home_3 Point(x=0.30927, y=0.64471)\n",
      "home_4 Point(x=0.32137, y=0.78738)\n",
      "home_5 Point(x=0.41094, y=0.27410999999999996)\n",
      "home_6 Point(x=0.41698, y=0.52157)\n",
      "home_7 Point(x=0.39125, y=0.6745)\n",
      "home_8 Point(x=0.45388, y=0.78826)\n",
      "home_9 Point(x=0.52697, y=0.6202)\n",
      "home_10 Point(x=0.55243, y=0.56731)\n",
      "home_11 Point(x=0.00096, y=0.51762)\n",
      "home_1 Point(x=0.32648, y=0.34678)\n",
      "home_2 Point(x=0.33701, y=0.51137)\n",
      "home_3 Point(x=0.30927, y=0.64471)\n",
      "home_4 Point(x=0.32137, y=0.78738)\n",
      "home_5 Point(x=0.41094, y=0.27410999999999996)\n",
      "home_6 Point(x=0.41698, y=0.52157)\n",
      "home_7 Point(x=0.39125, y=0.6745)\n",
      "home_8 Point(x=0.45388, y=0.78826)\n",
      "home_9 Point(x=0.52697, y=0.6202)\n",
      "home_10 Point(x=0.55243, y=0.56731)\n",
      "home_11 Point(x=0.00114, y=0.51762)\n",
      "home_1 Point(x=0.32648, y=0.34678)\n",
      "home_2 Point(x=0.33701, y=0.51137)\n",
      "home_3 Point(x=0.30927, y=0.64471)\n",
      "home_4 Point(x=0.32137, y=0.78738)\n",
      "home_5 Point(x=0.41094, y=0.27410999999999996)\n",
      "home_6 Point(x=0.41698, y=0.52157)\n",
      "home_7 Point(x=0.39125, y=0.6745)\n",
      "home_8 Point(x=0.45388, y=0.78826)\n",
      "home_9 Point(x=0.52697, y=0.6202)\n",
      "home_10 Point(x=0.55243, y=0.56731)\n",
      "home_11 Point(x=0.00121, y=0.51762)\n",
      "home_1 Point(x=0.32622, y=0.34682999999999997)\n",
      "home_2 Point(x=0.33687, y=0.51012)\n",
      "home_3 Point(x=0.30944, y=0.64446)\n",
      "home_4 Point(x=0.32142, y=0.78759)\n",
      "home_5 Point(x=0.41067, y=0.27435)\n",
      "home_6 Point(x=0.41703, y=0.52035)\n",
      "home_7 Point(x=0.39134, y=0.6743399999999999)\n",
      "home_8 Point(x=0.45379, y=0.78947)\n",
      "home_9 Point(x=0.52731, y=0.6199)\n",
      "home_10 Point(x=0.55236, y=0.56687)\n",
      "home_11 Point(x=0.00129, y=0.51762)\n",
      "home_1 Point(x=0.32597, y=0.34731)\n",
      "home_2 Point(x=0.33664, y=0.5098199999999999)\n",
      "home_3 Point(x=0.30948, y=0.64472)\n",
      "home_4 Point(x=0.32136, y=0.78841)\n",
      "home_5 Point(x=0.41065, y=0.27490000000000003)\n",
      "home_6 Point(x=0.41682, y=0.52048)\n",
      "home_7 Point(x=0.39141, y=0.6757299999999999)\n",
      "home_8 Point(x=0.45376, y=0.7905)\n",
      "home_9 Point(x=0.52737, y=0.62009)\n",
      "home_10 Point(x=0.55202, y=0.56689)\n",
      "home_11 Point(x=0.0014, y=0.51762)\n",
      "home_1 Point(x=0.32581, y=0.34841)\n",
      "home_2 Point(x=0.33637, y=0.51034)\n",
      "home_3 Point(x=0.30978, y=0.6452100000000001)\n",
      "home_4 Point(x=0.32159, y=0.78949)\n",
      "home_5 Point(x=0.41082, y=0.27561)\n",
      "home_6 Point(x=0.41663, y=0.5218)\n",
      "home_7 Point(x=0.3919, y=0.6767799999999999)\n",
      "home_8 Point(x=0.4538, y=0.7921199999999999)\n",
      "home_9 Point(x=0.5274, y=0.62151)\n",
      "home_10 Point(x=0.55256, y=0.5720700000000001)\n",
      "home_11 Point(x=0.0014, y=0.51762)\n",
      "home_1 Point(x=0.3257, y=0.34963)\n",
      "home_2 Point(x=0.33624, y=0.51081)\n",
      "home_3 Point(x=0.31015, y=0.64561)\n",
      "home_4 Point(x=0.32198, y=0.79079)\n",
      "home_5 Point(x=0.41094, y=0.27703)\n",
      "home_6 Point(x=0.41641, y=0.52318)\n",
      "home_7 Point(x=0.39235, y=0.6784)\n",
      "home_8 Point(x=0.45378, y=0.79406)\n",
      "home_9 Point(x=0.52746, y=0.62347)\n",
      "home_10 Point(x=0.55307, y=0.57454)\n",
      "home_11 Point(x=0.0014, y=0.51762)\n",
      "home_1 Point(x=0.32564, y=0.35084000000000004)\n",
      "home_2 Point(x=0.33608, y=0.5113099999999999)\n",
      "home_3 Point(x=0.3105, y=0.64627)\n",
      "home_4 Point(x=0.32243, y=0.79227)\n",
      "home_5 Point(x=0.411, y=0.27849)\n",
      "home_6 Point(x=0.41618, y=0.52467)\n",
      "home_7 Point(x=0.39281, y=0.68014)\n",
      "home_8 Point(x=0.45375, y=0.7957)\n",
      "home_9 Point(x=0.52752, y=0.62554)\n",
      "home_10 Point(x=0.55333, y=0.57685)\n",
      "home_11 Point(x=0.0012, y=0.51807)\n",
      "home_1 Point(x=0.32557, y=0.35222)\n",
      "home_2 Point(x=0.33593, y=0.5119)\n",
      "home_3 Point(x=0.31089, y=0.6467499999999999)\n",
      "home_4 Point(x=0.32282, y=0.79394)\n",
      "home_5 Point(x=0.41109, y=0.28002000000000005)\n",
      "home_6 Point(x=0.41592, y=0.52596)\n",
      "home_7 Point(x=0.39319, y=0.68182)\n",
      "home_8 Point(x=0.45374, y=0.79748)\n",
      "home_9 Point(x=0.52754, y=0.62775)\n",
      "home_10 Point(x=0.55349, y=0.5791299999999999)\n",
      "home_11 Point(x=0.001, y=0.5185299999999999)\n",
      "home_1 Point(x=0.32551, y=0.35363)\n",
      "home_2 Point(x=0.33581, y=0.51244)\n",
      "home_3 Point(x=0.31133, y=0.64735)\n",
      "home_4 Point(x=0.32312, y=0.79555)\n",
      "home_5 Point(x=0.41119, y=0.28163000000000005)\n",
      "home_6 Point(x=0.41563, y=0.5276000000000001)\n",
      "home_7 Point(x=0.39362, y=0.68333)\n",
      "home_8 Point(x=0.45371, y=0.7992)\n",
      "home_9 Point(x=0.52761, y=0.63042)\n",
      "home_10 Point(x=0.55346, y=0.5812999999999999)\n"
     ]
    }
   ],
   "source": [
    "for frame in dataset.frames[:10]:\n",
    "    for player, coord in frame.players_coordinates.items():\n",
    "        if player.team.name == \"Home\":\n",
    "            print(player.player_id, coord)"
   ]
  },
  {
   "cell_type": "markdown",
   "id": "4e177c08-a0fe-4848-894f-0aecea6fb51b",
   "metadata": {},
   "source": [
    "## Visualization"
   ]
  },
  {
   "cell_type": "markdown",
   "id": "a10240cd-750b-4778-8f89-8e25c0eb77cf",
   "metadata": {},
   "source": [
    "### First Frame"
   ]
  },
  {
   "cell_type": "markdown",
   "id": "60498635-8319-4753-a8f6-075b94aabb97",
   "metadata": {},
   "source": [
    "<img src=\"./img/frame1.png\" width=\"480\" />"
   ]
  },
  {
   "cell_type": "code",
   "execution_count": 12,
   "id": "ca0a09b7-2f2b-4f0b-ba5a-062d5be4be67",
   "metadata": {},
   "outputs": [
    {
     "data": {
      "image/png": "[encoded data removed]",
      "text/plain": [
       "<Figure size 640x480 with 1 Axes>"
      ]
     },
     "metadata": {},
     "output_type": "display_data"
    }
   ],
   "source": [
    "pitch = Pitch(\n",
    "    pitch_type=\"metricasports\",\n",
    "    pitch_width=68, pitch_length=105\n",
    ")\n",
    "\n",
    "fig, ax = pitch.draw()\n",
    "\n",
    "# the very first frame\n",
    "frame = dataset.frames[0]\n",
    "\n",
    "# ---------------------------\n",
    "# Write your code here\n",
    "# ---------------------------\n",
    "\n",
    "plt.show()"
   ]
  },
  {
   "cell_type": "markdown",
   "id": "769964b1-742c-4b93-aa21-dc4c0e58a782",
   "metadata": {},
   "source": [
    "### First 50 Frames"
   ]
  },
  {
   "cell_type": "markdown",
   "id": "b03555bd-2912-40f7-8c51-6e826ff60936",
   "metadata": {},
   "source": [
    "<img src=\"./img/frames50.png\" width=\"480\" />"
   ]
  },
  {
   "cell_type": "code",
   "execution_count": 13,
   "id": "5e5f36f1-debc-4e6d-aef4-e9214242d20a",
   "metadata": {},
   "outputs": [
    {
     "data": {
      "image/png": "[encoded data removed]",
      "text/plain": [
       "<Figure size 640x480 with 1 Axes>"
      ]
     },
     "metadata": {},
     "output_type": "display_data"
    }
   ],
   "source": [
    "pitch = Pitch(\n",
    "    pitch_type=\"metricasports\",\n",
    "    pitch_width=68, pitch_length=105\n",
    ")\n",
    "\n",
    "fig, ax = pitch.draw()\n",
    "\n",
    "# ---------------------------\n",
    "# Write your code here\n",
    "# ---------------------------\n",
    "\n",
    "plt.show()"
   ]
  },
  {
   "cell_type": "markdown",
   "id": "a10e32a8-aa3a-4ece-a7de-40dc60464dae",
   "metadata": {},
   "source": [
    "## Animation"
   ]
  },
  {
   "cell_type": "markdown",
   "id": "85acba36-2365-4ca4-a2c8-1ff21788b633",
   "metadata": {},
   "source": [
    "### Install FFmpeg"
   ]
  },
  {
   "cell_type": "markdown",
   "id": "2bd4a1e5-747c-43b2-813b-dd2d65af813f",
   "metadata": {},
   "source": [
    "```\n",
    "conda activate facamp\n",
    "conda install conda-forge::ffmpeg\n",
    "```"
   ]
  },
  {
   "cell_type": "markdown",
   "id": "a5645fd7-20cf-4ac9-a789-cc65d17aa737",
   "metadata": {},
   "source": [
    "### First 100 Frames"
   ]
  },
  {
   "cell_type": "markdown",
   "id": "7be531ed-cec8-45b7-852f-3e92d52cf9c8",
   "metadata": {},
   "source": [
    "#### Create Frame Images"
   ]
  },
  {
   "cell_type": "code",
   "execution_count": 14,
   "id": "04985fe6-5c9c-4810-952b-9b771ab5b387",
   "metadata": {},
   "outputs": [],
   "source": [
    "path_base = \"anim1a\""
   ]
  },
  {
   "cell_type": "code",
   "execution_count": 15,
   "id": "c8d07d74-bd1e-48cf-9322-1d360351a5ee",
   "metadata": {},
   "outputs": [],
   "source": [
    "os.makedirs(path_base, exist_ok=True)"
   ]
  },
  {
   "cell_type": "code",
   "execution_count": 16,
   "id": "94c9346a-7b6e-4ffd-ad5e-32e615f883eb",
   "metadata": {},
   "outputs": [
    {
     "name": "stderr",
     "output_type": "stream",
     "text": [
      "100%|██████████████████████████████████████████████████████████████████████████████████████████████████████████████| 100/100 [00:11<00:00,  8.52it/s]\n"
     ]
    }
   ],
   "source": [
    "pitch = Pitch(\n",
    "    pitch_type=\"metricasports\",\n",
    "    pitch_width=68, pitch_length=105\n",
    ")\n",
    "\n",
    "\n",
    "n = 0\n",
    "max_frames = 100\n",
    "\n",
    "for frame in tqdm(dataset.frames[:max_frames]):\n",
    "\n",
    "    n += 1\n",
    "    \n",
    "    fig, ax = pitch.draw()\n",
    "\n",
    "    # ---------------------------\n",
    "    # Write your code here\n",
    "    # ---------------------------\n",
    "\n",
    "    path_dst = os.path.join(path_base, f\"{n:03d}.png\")\n",
    "    plt.savefig(path_dst)\n",
    "\n",
    "    # clean up\n",
    "    fig.clear()\n",
    "    plt.close(fig)"
   ]
  },
  {
   "cell_type": "markdown",
   "id": "f454271f-478a-4d19-8d42-c09706caa4b0",
   "metadata": {},
   "source": [
    "#### Convert Images to Video"
   ]
  },
  {
   "cell_type": "markdown",
   "id": "39b7bc43-bd65-4e1c-9340-a639f233576c",
   "metadata": {},
   "source": [
    "**Mac**\n",
    "\n",
    "```\n",
    "ffmpeg -framerate 30 -pattern_type glob -i 'anim1a/*.png' -c:v libx264 -pix_fmt yuv420p anim1a.mp4\n",
    "```\n",
    "\n",
    "**Windows**\n",
    "\n",
    "```\n",
    "ffmpeg -framerate 30 -i anim1a/%03d.png -c:v libx264 -pix_fmt yuv420p anim1a.mp4\n",
    "```"
   ]
  },
  {
   "cell_type": "markdown",
   "id": "270e0f8f-1a89-49d4-a6cb-0099333c9568",
   "metadata": {},
   "source": [
    "### First 3,500 Frames"
   ]
  },
  {
   "cell_type": "code",
   "execution_count": 17,
   "id": "fbaeb5ed-bbc8-415d-af4f-c56c205e4312",
   "metadata": {},
   "outputs": [],
   "source": [
    "# ---------------------------\n",
    "# Write your code below\n",
    "# ---------------------------"
   ]
  }
 ],
 "metadata": {
  "kernelspec": {
   "display_name": "Python 3 (ipykernel)",
   "language": "python",
   "name": "python3"
  },
  "language_info": {
   "codemirror_mode": {
    "name": "ipython",
    "version": 3
   },
   "file_extension": ".py",
   "mimetype": "text/x-python",
   "name": "python",
   "nbconvert_exporter": "python",
   "pygments_lexer": "ipython3",
   "version": "3.9.19"
  }
 },
 "nbformat": 4,
 "nbformat_minor": 5
}
