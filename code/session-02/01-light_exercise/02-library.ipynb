{
 "cells": [
  {
   "cell_type": "markdown",
   "id": "094b5f24-34d0-41e5-9c8b-780defcad37a",
   "metadata": {},
   "source": [
    "*Copyright 2024 Jaeyoung Chun*\n",
    "\n",
    "You may not make copies of this and use or distribute it for any purpose."
   ]
  },
  {
   "cell_type": "markdown",
   "id": "936c245a-7f27-426a-86ac-f43cde75bef4",
   "metadata": {},
   "source": [
    "# Library"
   ]
  },
  {
   "cell_type": "markdown",
   "id": "c5ce77a3-7a55-4a82-8668-c0a5b4d29217",
   "metadata": {},
   "source": [
    "Objectives:\n",
    "\n",
    "- Learn how to use `import`.\n",
    "\n",
    "Real World Examples:\n",
    "- iPhone is made by Apple (United States). South Korea *imports* iPhone so that South Korean can use it.\n",
    "- Galaxy is made by Samsung (South Korea). United States *imports* Galaxy so that American can use it."
   ]
  },
  {
   "cell_type": "markdown",
   "id": "4eb201f8-63e1-4f91-994e-38179eedc17f",
   "metadata": {},
   "source": [
    "## Built-in Functions"
   ]
  },
  {
   "cell_type": "markdown",
   "id": "0651e510-0dca-4b3e-821f-7e1a9d29faad",
   "metadata": {},
   "source": [
    "`sum` and `print` are the built-in functions. You get those functions out of the box. No need to import anything."
   ]
  },
  {
   "cell_type": "code",
   "execution_count": 1,
   "id": "dc76c3ae-350c-49fb-8750-618d18d9677e",
   "metadata": {},
   "outputs": [],
   "source": [
    "numbers = [1, 2, 3, 4, 5]"
   ]
  },
  {
   "cell_type": "code",
   "execution_count": 2,
   "id": "37da66fa-a7ad-42ef-8a31-1936c2726efe",
   "metadata": {},
   "outputs": [],
   "source": [
    "total = sum(numbers)"
   ]
  },
  {
   "cell_type": "code",
   "execution_count": 3,
   "id": "00404c74-3264-4b01-bede-85236fa74916",
   "metadata": {},
   "outputs": [
    {
     "name": "stdout",
     "output_type": "stream",
     "text": [
      "15\n"
     ]
    }
   ],
   "source": [
    "print(total)"
   ]
  },
  {
   "cell_type": "markdown",
   "id": "6049ca53-47ad-4d55-8219-33846193ecba",
   "metadata": {},
   "source": [
    "## Built-in Library"
   ]
  },
  {
   "cell_type": "markdown",
   "id": "a628f9e1-a171-47f1-bc77-ba73326f5521",
   "metadata": {},
   "source": [
    "You would need to import these libraries before you can use them, but no need to install anything. These libraries come with Python."
   ]
  },
  {
   "cell_type": "markdown",
   "id": "2085632a-f74e-4612-99e0-47283a060442",
   "metadata": {},
   "source": [
    "### Square Root"
   ]
  },
  {
   "cell_type": "markdown",
   "id": "63b449df-6b02-4148-91ef-91a937b7bd7e",
   "metadata": {},
   "source": [
    "How to calculate $\\sqrt{9}$?"
   ]
  },
  {
   "cell_type": "code",
   "execution_count": 4,
   "id": "b683a837-2e64-4274-9973-48d6900794e5",
   "metadata": {},
   "outputs": [],
   "source": [
    "import math"
   ]
  },
  {
   "cell_type": "code",
   "execution_count": 5,
   "id": "4c25a636-f394-4f5a-a10e-edefad487197",
   "metadata": {},
   "outputs": [
    {
     "data": {
      "text/plain": [
       "3.0"
      ]
     },
     "execution_count": 5,
     "metadata": {},
     "output_type": "execute_result"
    }
   ],
   "source": [
    "math.sqrt(9)"
   ]
  },
  {
   "cell_type": "code",
   "execution_count": 6,
   "id": "9326570c-5865-4851-aa97-fd1220a45c9c",
   "metadata": {},
   "outputs": [
    {
     "data": {
      "text/plain": [
       "9.0"
      ]
     },
     "execution_count": 6,
     "metadata": {},
     "output_type": "execute_result"
    }
   ],
   "source": [
    "math.sqrt(81)"
   ]
  },
  {
   "cell_type": "markdown",
   "id": "225a782c-7c13-468e-82d7-af014c59b5a5",
   "metadata": {},
   "source": [
    "### Pi"
   ]
  },
  {
   "cell_type": "markdown",
   "id": "16fe75e3-5c66-4426-9b1e-c580bf80d313",
   "metadata": {},
   "source": [
    "How to get $\\pi$?"
   ]
  },
  {
   "cell_type": "code",
   "execution_count": 7,
   "id": "3f8d09d5-846b-4cde-862f-ece358957f8d",
   "metadata": {},
   "outputs": [
    {
     "data": {
      "text/plain": [
       "3.141592653589793"
      ]
     },
     "execution_count": 7,
     "metadata": {},
     "output_type": "execute_result"
    }
   ],
   "source": [
    "math.pi"
   ]
  },
  {
   "cell_type": "markdown",
   "id": "3f8a2b92-9f4b-496d-b16e-78ec9f5335b9",
   "metadata": {},
   "source": [
    "## Third-Party Library"
   ]
  },
  {
   "cell_type": "markdown",
   "id": "ebac8433-d453-4fe5-b30c-a0f988abb3d4",
   "metadata": {},
   "source": [
    "You must install these libraries before you can use them. For example, `Pandas` is a third-party library."
   ]
  },
  {
   "cell_type": "markdown",
   "id": "6a186a8b-05e6-4e3e-a510-eb9e4722a867",
   "metadata": {},
   "source": [
    "Run the following command from the Terminal App or Anaconda Prompt:\n",
    "\n",
    "```\n",
    "conda activate facamp\n",
    "conda install pandas\n",
    "```\n",
    "\n",
    "Once installed, come back to Jupyter Lab."
   ]
  },
  {
   "cell_type": "code",
   "execution_count": 8,
   "id": "c69208e9-8c12-4d46-b306-129da406fee2",
   "metadata": {},
   "outputs": [],
   "source": [
    "import pandas as pd"
   ]
  },
  {
   "cell_type": "code",
   "execution_count": 9,
   "id": "69cbb78e-beda-40ee-bff3-e85cfa892411",
   "metadata": {},
   "outputs": [
    {
     "data": {
      "text/plain": [
       "'2.2.2'"
      ]
     },
     "execution_count": 9,
     "metadata": {},
     "output_type": "execute_result"
    }
   ],
   "source": [
    "pd.__version__"
   ]
  }
 ],
 "metadata": {
  "kernelspec": {
   "display_name": "Python 3 (ipykernel)",
   "language": "python",
   "name": "python3"
  },
  "language_info": {
   "codemirror_mode": {
    "name": "ipython",
    "version": 3
   },
   "file_extension": ".py",
   "mimetype": "text/x-python",
   "name": "python",
   "nbconvert_exporter": "python",
   "pygments_lexer": "ipython3",
   "version": "3.9.19"
  }
 },
 "nbformat": 4,
 "nbformat_minor": 5
}
