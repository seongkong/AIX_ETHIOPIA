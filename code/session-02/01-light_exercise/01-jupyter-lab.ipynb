{
 "cells": [
  {
   "cell_type": "markdown",
   "id": "82ffa632-35d9-4880-bc20-ed7914948f8c",
   "metadata": {},
   "source": [
    "*Copyright 2024 Jaeyoung Chun*\n",
    "\n",
    "You may not make copies of this and use or distribute it for any purpose."
   ]
  },
  {
   "cell_type": "markdown",
   "id": "fba12ce7-f874-445a-9573-5646fb7e4c3b",
   "metadata": {},
   "source": [
    "# Jupyter Lab"
   ]
  },
  {
   "cell_type": "markdown",
   "id": "c8a0f212-11fe-411b-a060-eadb57dbc72f",
   "metadata": {},
   "source": [
    "## Run Jupyter Lab"
   ]
  },
  {
   "cell_type": "markdown",
   "id": "ff937dca-4b19-4167-a6ea-b9572e55e1fa",
   "metadata": {},
   "source": [
    "Run the following command from your Terminal App or Anaconda Prompt:"
   ]
  },
  {
   "cell_type": "markdown",
   "id": "42b692e2-c874-4cb5-b197-5093f5248dce",
   "metadata": {},
   "source": [
    "```\n",
    "conda activate facamp\n",
    "jupyter lab\n",
    "```"
   ]
  },
  {
   "cell_type": "markdown",
   "id": "876b2027-3e8c-462d-8f46-36e410ff5fcc",
   "metadata": {},
   "source": [
    "## Run Code"
   ]
  },
  {
   "cell_type": "markdown",
   "id": "0577590f-baa4-4352-9cc2-11a745d37183",
   "metadata": {},
   "source": [
    "How to run your code:\n",
    "\n",
    "1. Click on the play button (see the screenshot below).\n",
    "1. Press `Shift + Enter` to execute a cell."
   ]
  },
  {
   "cell_type": "markdown",
   "id": "cfbf8a8c-8de9-430f-bd72-dccb3b159b2d",
   "metadata": {},
   "source": [
    "<img src=\"./img/jupyter-play-btn.png\" width=\"640\" />"
   ]
  },
  {
   "cell_type": "code",
   "execution_count": 2,
   "id": "f556a967-2090-44e9-b3c0-3e2767c12c14",
   "metadata": {},
   "outputs": [
    {
     "name": "stdout",
     "output_type": "stream",
     "text": [
      "Hello, FACAMP!\n"
     ]
    }
   ],
   "source": [
    "print(\"Hello, FACAMP!\")"
   ]
  }
 ],
 "metadata": {
  "kernelspec": {
   "display_name": "Python 3 (ipykernel)",
   "language": "python",
   "name": "python3"
  },
  "language_info": {
   "codemirror_mode": {
    "name": "ipython",
    "version": 3
   },
   "file_extension": ".py",
   "mimetype": "text/x-python",
   "name": "python",
   "nbconvert_exporter": "python",
   "pygments_lexer": "ipython3",
   "version": "3.9.19"
  }
 },
 "nbformat": 4,
 "nbformat_minor": 5
}
