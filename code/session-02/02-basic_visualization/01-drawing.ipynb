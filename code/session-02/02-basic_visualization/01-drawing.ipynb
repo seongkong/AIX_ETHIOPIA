{
 "cells": [
  {
   "cell_type": "markdown",
   "id": "89978d64-f52a-4e70-a373-2fa482db9623",
   "metadata": {},
   "source": [
    "*Copyright 2024 Jaeyoung Chun*\n",
    "\n",
    "You may not make copies of this and use or distribute it for any purpose."
   ]
  },
  {
   "cell_type": "markdown",
   "id": "06249a06-9e79-4990-8cf4-02d962545093",
   "metadata": {},
   "source": [
    "# Drawing"
   ]
  },
  {
   "cell_type": "markdown",
   "id": "b59cbb8f-3b33-4d04-b19f-c4689be12086",
   "metadata": {},
   "source": [
    "## Install `matplotlib`"
   ]
  },
  {
   "cell_type": "markdown",
   "id": "0659f978-8231-4098-b89e-64edf262425f",
   "metadata": {},
   "source": [
    "Run the following command from the Terminal App or Anaconda Prompt:\n",
    "\n",
    "```\n",
    "conda activate facamp\n",
    "conda install matplotlib\n",
    "```\n",
    "\n",
    "Once installed, come back to Jupyter Lab."
   ]
  },
  {
   "cell_type": "markdown",
   "id": "26427104-717f-4056-b65a-bdde669f3839",
   "metadata": {},
   "source": [
    "## Import `matplotlib`"
   ]
  },
  {
   "cell_type": "code",
   "execution_count": 1,
   "id": "c68030df-8002-4e9b-b8aa-1a708d67977b",
   "metadata": {
    "editable": true,
    "slideshow": {
     "slide_type": ""
    },
    "tags": [
     "usercode"
    ]
   },
   "outputs": [],
   "source": [
    "import matplotlib.pyplot as plt"
   ]
  },
  {
   "cell_type": "markdown",
   "id": "ec15982e-5f3a-4cab-8883-edea7cb005c1",
   "metadata": {
    "editable": true,
    "slideshow": {
     "slide_type": ""
    },
    "tags": []
   },
   "source": [
    "## Empty Plot"
   ]
  },
  {
   "cell_type": "code",
   "execution_count": 2,
   "id": "814a49cf-b742-40f1-a0bb-c88b426c15c2",
   "metadata": {
    "editable": true,
    "slideshow": {
     "slide_type": ""
    },
    "tags": [
     "usercode"
    ]
   },
   "outputs": [],
   "source": [
    "# ---------------------------\n",
    "# Write your code below\n",
    "# ---------------------------"
   ]
  },
  {
   "cell_type": "markdown",
   "id": "04d624e4-fbce-4d82-b4c7-eaa689941122",
   "metadata": {
    "editable": true,
    "slideshow": {
     "slide_type": ""
    },
    "tags": []
   },
   "source": [
    "## Point"
   ]
  },
  {
   "cell_type": "code",
   "execution_count": 3,
   "id": "df875b4d-17f4-4fa1-bcdf-7cb502b4a7dd",
   "metadata": {
    "editable": true,
    "slideshow": {
     "slide_type": ""
    },
    "tags": []
   },
   "outputs": [],
   "source": [
    "# ---------------------------\n",
    "# Write your code below\n",
    "# ---------------------------"
   ]
  },
  {
   "cell_type": "markdown",
   "id": "4eefdfff-cf0e-4847-ade9-653c554708e3",
   "metadata": {
    "editable": true,
    "slideshow": {
     "slide_type": ""
    },
    "tags": []
   },
   "source": [
    "## Line"
   ]
  },
  {
   "cell_type": "markdown",
   "id": "318d0920-f949-43fb-beb3-3cbc342e1641",
   "metadata": {
    "editable": true,
    "slideshow": {
     "slide_type": ""
    },
    "tags": []
   },
   "source": [
    "Draw a line from `(x1=2, y1=3)` to `(x2=7, y2=7)`."
   ]
  },
  {
   "cell_type": "code",
   "execution_count": 4,
   "id": "113c3d15-fc87-4b56-bbd4-496edf171ccd",
   "metadata": {
    "editable": true,
    "slideshow": {
     "slide_type": ""
    },
    "tags": []
   },
   "outputs": [
    {
     "data": {
      "image/png": "[encoded data removed]",
      "text/plain": [
       "<Figure size 640x480 with 1 Axes>"
      ]
     },
     "metadata": {},
     "output_type": "display_data"
    }
   ],
   "source": [
    "fig, ax = plt.subplots()\n",
    "\n",
    "# ---------------------------\n",
    "# Write your code below\n",
    "# ---------------------------\n",
    "\n",
    "ax.grid()\n",
    "ax.set_xlim(0, 10)\n",
    "ax.set_ylim(0, 10)\n",
    "\n",
    "plt.show()"
   ]
  }
 ],
 "metadata": {
  "kernelspec": {
   "display_name": "Python 3 (ipykernel)",
   "language": "python",
   "name": "python3"
  },
  "language_info": {
   "codemirror_mode": {
    "name": "ipython",
    "version": 3
   },
   "file_extension": ".py",
   "mimetype": "text/x-python",
   "name": "python",
   "nbconvert_exporter": "python",
   "pygments_lexer": "ipython3",
   "version": "3.9.19"
  }
 },
 "nbformat": 4,
 "nbformat_minor": 5
}
