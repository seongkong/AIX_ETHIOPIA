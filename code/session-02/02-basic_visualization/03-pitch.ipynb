{
 "cells": [
  {
   "cell_type": "markdown",
   "id": "158c6593-9996-4f5b-9414-a2e9d3bad0ea",
   "metadata": {},
   "source": [
    "*Copyright 2024 Jaeyoung Chun*\n",
    "\n",
    "You may not make copies of this and use or distribute it for any purpose."
   ]
  },
  {
   "cell_type": "markdown",
   "id": "6762106d-6437-4f20-9f22-bff290de2e7a",
   "metadata": {},
   "source": [
    "# Pitch (Field)"
   ]
  },
  {
   "cell_type": "markdown",
   "id": "b50ae144-7707-4500-962b-5236d749fcfb",
   "metadata": {},
   "source": [
    "## Import `matplotlib`"
   ]
  },
  {
   "cell_type": "code",
   "execution_count": 1,
   "id": "3980e2df-d21f-4267-8c08-7922b72f8916",
   "metadata": {
    "tags": []
   },
   "outputs": [],
   "source": [
    "# ---------------------------\n",
    "# Write your code below\n",
    "# ---------------------------"
   ]
  },
  {
   "cell_type": "markdown",
   "id": "7e1aef30-9041-4ecc-80d5-07ddfe3da73a",
   "metadata": {},
   "source": [
    "## Import `mplsoccer`"
   ]
  },
  {
   "cell_type": "code",
   "execution_count": 2,
   "id": "857e2cf4-9f7c-4179-b824-0350631540fe",
   "metadata": {},
   "outputs": [],
   "source": [
    "# ---------------------------\n",
    "# Write your code below\n",
    "# ---------------------------"
   ]
  },
  {
   "cell_type": "markdown",
   "id": "0807fe4c-ea2e-4940-96c7-78bc9397f246",
   "metadata": {},
   "source": [
    "## Draw Pitch 1"
   ]
  },
  {
   "cell_type": "markdown",
   "id": "9cfdfe20-d569-405c-a94e-b86bb14d89ca",
   "metadata": {},
   "source": [
    "**Requirements:**\n",
    "\n",
    "1. Set `pitch_type` to `statsbomb`.\n",
    "1. Set the line color to black.\n",
    "1. Set the title to `Football Analytics`."
   ]
  },
  {
   "cell_type": "code",
   "execution_count": 3,
   "id": "31aca27b-1fbf-4ae1-99f4-8ffd0f1aa880",
   "metadata": {
    "tags": []
   },
   "outputs": [],
   "source": [
    "# ---------------------------\n",
    "# Write your code below\n",
    "# ---------------------------"
   ]
  },
  {
   "cell_type": "markdown",
   "id": "686b2909-6c12-4f1f-adcd-7883849ce72a",
   "metadata": {},
   "source": [
    "## Draw Pitch 2"
   ]
  },
  {
   "cell_type": "markdown",
   "id": "bc8c00b1-487d-4054-989e-eb0d0368880c",
   "metadata": {},
   "source": [
    "**Requirements:**\n",
    "\n",
    "1. Grass field.\n",
    "2. Set the line color to white.\n",
    "3. Use stripe."
   ]
  },
  {
   "cell_type": "code",
   "execution_count": 4,
   "id": "452039e8-4c63-4c2f-9e31-9f5899f85d9a",
   "metadata": {},
   "outputs": [],
   "source": [
    "# ---------------------------\n",
    "# Write your code below\n",
    "# ---------------------------"
   ]
  },
  {
   "cell_type": "markdown",
   "id": "90d89f52-914b-4b62-94ea-ecdb166da02d",
   "metadata": {},
   "source": [
    "## Draw Pitch 3"
   ]
  },
  {
   "cell_type": "markdown",
   "id": "3fef8d10-6bbf-4168-a985-c37986386d3d",
   "metadata": {},
   "source": [
    "**Requirements:**\n",
    "\n",
    "1. Grass field (with white line color and stripe)\n",
    "1. Vertical half pitch"
   ]
  },
  {
   "cell_type": "code",
   "execution_count": 5,
   "id": "0bae7476-b1b1-4411-b402-0b58ecdcfd05",
   "metadata": {
    "tags": []
   },
   "outputs": [],
   "source": [
    "# ---------------------------\n",
    "# Write your code below\n",
    "# ---------------------------"
   ]
  },
  {
   "cell_type": "markdown",
   "id": "2f1d116b-db08-4e58-b911-e296df55c668",
   "metadata": {},
   "source": [
    "## Draw Pitch 4"
   ]
  },
  {
   "cell_type": "markdown",
   "id": "47715bb4-c88d-4caa-9563-cb8df57d142c",
   "metadata": {},
   "source": [
    "**Requirements:**\n",
    "\n",
    "1. Grass field (with white line color and stripe)\n",
    "1. Multiple pitches (two rows and two columns)"
   ]
  },
  {
   "cell_type": "code",
   "execution_count": 6,
   "id": "610a618d-c6f4-4a5d-964d-ebbc6b74d64a",
   "metadata": {},
   "outputs": [],
   "source": [
    "# ---------------------------\n",
    "# Write your code below\n",
    "# ---------------------------"
   ]
  }
 ],
 "metadata": {
  "kernelspec": {
   "display_name": "Python 3 (ipykernel)",
   "language": "python",
   "name": "python3"
  },
  "language_info": {
   "codemirror_mode": {
    "name": "ipython",
    "version": 3
   },
   "file_extension": ".py",
   "mimetype": "text/x-python",
   "name": "python",
   "nbconvert_exporter": "python",
   "pygments_lexer": "ipython3",
   "version": "3.9.19"
  },
  "toc-autonumbering": true
 },
 "nbformat": 4,
 "nbformat_minor": 5
}
