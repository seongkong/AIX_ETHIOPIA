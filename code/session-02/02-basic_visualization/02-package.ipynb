{
 "cells": [
  {
   "cell_type": "markdown",
   "id": "6f2f026c-24e7-4c39-be28-1a586b41406d",
   "metadata": {},
   "source": [
    "*Copyright 2024 Jaeyoung Chun*\n",
    "\n",
    "You may not make copies of this and use or distribute it for any purpose."
   ]
  },
  {
   "cell_type": "markdown",
   "id": "97f531ad-0185-47c1-9247-e5f62347e3d8",
   "metadata": {},
   "source": [
    "# Package"
   ]
  },
  {
   "cell_type": "markdown",
   "id": "6225e209-01d1-4b12-9343-7ac0ad54ec04",
   "metadata": {},
   "source": [
    "A *package* (or *library*) is a collection of Python modules."
   ]
  },
  {
   "cell_type": "markdown",
   "id": "b1cb32b1-9249-4fa9-852e-6cf42671de0f",
   "metadata": {},
   "source": [
    "## Drawing Manually"
   ]
  },
  {
   "cell_type": "markdown",
   "id": "347415fc-f859-4a84-8e8c-9544f8bb3c65",
   "metadata": {},
   "source": [
    "- Source: https://fcpython.com/visualisation/drawing-pitchmap-adding-lines-circles-matplotlib\n",
    "- 59 lines of code are needed to draw a pitch."
   ]
  },
  {
   "cell_type": "code",
   "execution_count": 1,
   "id": "16ef679c-3d30-4663-b6e2-f20c3a6f226b",
   "metadata": {},
   "outputs": [
    {
     "data": {
      "image/png": "[encoded data removed]",
      "text/plain": [
       "<Figure size 640x480 with 1 Axes>"
      ]
     },
     "metadata": {},
     "output_type": "display_data"
    }
   ],
   "source": [
    "import matplotlib.pyplot as plt\n",
    "from matplotlib.patches import Arc\n",
    "\n",
    "# Create figure\n",
    "fig=plt.figure()\n",
    "ax=fig.add_subplot(1,1,1)\n",
    "\n",
    "# Pitch Outline & Centre Line\n",
    "plt.plot([0,0],[0,90], color=\"black\")\n",
    "plt.plot([0,130],[90,90], color=\"black\")\n",
    "plt.plot([130,130],[90,0], color=\"black\")\n",
    "plt.plot([130,0],[0,0], color=\"black\")\n",
    "plt.plot([65,65],[0,90], color=\"black\")\n",
    "\n",
    "# Left Penalty Area\n",
    "plt.plot([16.5,16.5],[65,25],color=\"black\")\n",
    "plt.plot([0,16.5],[65,65],color=\"black\")\n",
    "plt.plot([16.5,0],[25,25],color=\"black\")\n",
    "\n",
    "# Right Penalty Area\n",
    "plt.plot([130,113.5],[65,65],color=\"black\")\n",
    "plt.plot([113.5,113.5],[65,25],color=\"black\")\n",
    "plt.plot([113.5,130],[25,25],color=\"black\")\n",
    "\n",
    "# Left 6-yard Box\n",
    "plt.plot([0,5.5],[54,54],color=\"black\")\n",
    "plt.plot([5.5,5.5],[54,36],color=\"black\")\n",
    "plt.plot([5.5,0.5],[36,36],color=\"black\")\n",
    "\n",
    "# Right 6-yard Box\n",
    "plt.plot([130,124.5],[54,54],color=\"black\")\n",
    "plt.plot([124.5,124.5],[54,36],color=\"black\")\n",
    "plt.plot([124.5,130],[36,36],color=\"black\")\n",
    "\n",
    "# Prepare Circles\n",
    "centreCircle = plt.Circle((65,45),9.15,color=\"black\",fill=False)\n",
    "centreSpot = plt.Circle((65,45),0.8,color=\"black\")\n",
    "leftPenSpot = plt.Circle((11,45),0.8,color=\"black\")\n",
    "rightPenSpot = plt.Circle((119,45),0.8,color=\"black\")\n",
    "\n",
    "# Draw Circles\n",
    "ax.add_patch(centreCircle)\n",
    "ax.add_patch(centreSpot)\n",
    "ax.add_patch(leftPenSpot)\n",
    "ax.add_patch(rightPenSpot)\n",
    "\n",
    "# Prepare Arcs\n",
    "leftArc = Arc((11,45),height=18.3,width=18.3,angle=0,theta1=310,theta2=50,color=\"black\")\n",
    "rightArc = Arc((119,45),height=18.3,width=18.3,angle=0,theta1=130,theta2=230,color=\"black\")\n",
    "\n",
    "# Draw Arcs\n",
    "ax.add_patch(leftArc)\n",
    "ax.add_patch(rightArc)\n",
    "\n",
    "# Tidy Axes\n",
    "plt.axis('off')\n",
    "\n",
    "# Display Pitch\n",
    "plt.show()"
   ]
  },
  {
   "cell_type": "markdown",
   "id": "4f3be023-c26d-46bc-bf43-4b1f81dfe1e1",
   "metadata": {},
   "source": [
    "## Using Package"
   ]
  },
  {
   "cell_type": "markdown",
   "id": "97e374c3-d9d0-4665-85a6-03184e5051ff",
   "metadata": {
    "editable": true,
    "slideshow": {
     "slide_type": ""
    },
    "tags": []
   },
   "source": [
    "### Install `mplsoccer`"
   ]
  },
  {
   "cell_type": "markdown",
   "id": "1c7e11b9-fd9d-453a-ae7d-d172195ac1fc",
   "metadata": {
    "editable": true,
    "slideshow": {
     "slide_type": ""
    },
    "tags": []
   },
   "source": [
    "- We are going to use the package called `mplsoccer` to draw a pitch.\n",
    "- 8 lines of code are all you need."
   ]
  },
  {
   "cell_type": "markdown",
   "id": "618770ae-2f36-445c-b185-36f655c9f5f7",
   "metadata": {
    "editable": true,
    "slideshow": {
     "slide_type": ""
    },
    "tags": []
   },
   "source": [
    "Run the following command from the Terminal app or Anaconda Prompt:\n",
    "\n",
    "```\n",
    "conda activate facamp\n",
    "pip install mplsoccer\n",
    "```\n",
    "\n",
    "Once installed, come back to Jupyter Lab."
   ]
  },
  {
   "cell_type": "markdown",
   "id": "bc60511a-90f1-494d-b7a9-702269c9b186",
   "metadata": {
    "editable": true,
    "slideshow": {
     "slide_type": ""
    },
    "tags": []
   },
   "source": [
    "### Import `matplotlib`"
   ]
  },
  {
   "cell_type": "code",
   "execution_count": 2,
   "id": "80ae68a5-378a-44f0-8ec5-c1a151e654ac",
   "metadata": {
    "editable": true,
    "slideshow": {
     "slide_type": ""
    },
    "tags": []
   },
   "outputs": [],
   "source": [
    "# ---------------------------\n",
    "# Write your code below\n",
    "# ---------------------------"
   ]
  },
  {
   "cell_type": "markdown",
   "id": "fc1844ae-b8f8-4e9a-93fd-fd7459d4a54f",
   "metadata": {
    "editable": true,
    "slideshow": {
     "slide_type": ""
    },
    "tags": []
   },
   "source": [
    "### Import `mplsoccer`"
   ]
  },
  {
   "cell_type": "code",
   "execution_count": 3,
   "id": "fe4828eb-b1d5-4363-8b9a-a6d68afc3de7",
   "metadata": {
    "editable": true,
    "slideshow": {
     "slide_type": ""
    },
    "tags": []
   },
   "outputs": [],
   "source": [
    "# ---------------------------\n",
    "# Write your code below\n",
    "# ---------------------------"
   ]
  },
  {
   "cell_type": "markdown",
   "id": "f5729fe0-fea4-4b47-8ebb-b41afe9cc4a0",
   "metadata": {
    "editable": true,
    "slideshow": {
     "slide_type": ""
    },
    "tags": []
   },
   "source": [
    "### Draw Pitch"
   ]
  },
  {
   "cell_type": "code",
   "execution_count": 4,
   "id": "9e539b6a-7fc3-4a66-b520-036d4c5f1884",
   "metadata": {
    "editable": true,
    "slideshow": {
     "slide_type": ""
    },
    "tags": []
   },
   "outputs": [],
   "source": [
    "# ---------------------------\n",
    "# Write your code below\n",
    "# ---------------------------"
   ]
  }
 ],
 "metadata": {
  "kernelspec": {
   "display_name": "Python 3 (ipykernel)",
   "language": "python",
   "name": "python3"
  },
  "language_info": {
   "codemirror_mode": {
    "name": "ipython",
    "version": 3
   },
   "file_extension": ".py",
   "mimetype": "text/x-python",
   "name": "python",
   "nbconvert_exporter": "python",
   "pygments_lexer": "ipython3",
   "version": "3.9.19"
  }
 },
 "nbformat": 4,
 "nbformat_minor": 5
}
